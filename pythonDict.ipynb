{
 "cells": [
  {
   "cell_type": "markdown",
   "id": "2fbe557c",
   "metadata": {},
   "source": [
    "# Dictionary"
   ]
  },
  {
   "cell_type": "markdown",
   "id": "552f8c6f",
   "metadata": {},
   "source": [
    "- It is an unordered collection of elements\n",
    "- Dictionary has a **key:value** pair"
   ]
  },
  {
   "cell_type": "code",
   "execution_count": 2,
   "id": "904b2316",
   "metadata": {},
   "outputs": [],
   "source": [
    "##Dictionary declaration\n",
    "\n",
    "#empty dictionary\n",
    "_d1 = {}\n",
    "#create empty dictionary using dict()\n",
    "_d2 = dict()"
   ]
  },
  {
   "cell_type": "markdown",
   "id": "f293b4c5",
   "metadata": {},
   "source": [
    "### Dictionary initialization"
   ]
  },
  {
   "cell_type": "code",
   "execution_count": 7,
   "id": "e69dfe7e",
   "metadata": {},
   "outputs": [
    {
     "name": "stdout",
     "output_type": "stream",
     "text": [
      "{'Apple': 5000, 'Orange': 3000}\n",
      "{'Name': 'Yesaswini', 'Lang_known': ['C', 'C++', 'Java', 'Python']}\n",
      "{'Starters': 160, 'Biryani': 450}\n"
     ]
    }
   ],
   "source": [
    "#Ditionary with integer keys\n",
    "_d1 = {'Apple':5000, 'Orange':3000}\n",
    "print(_d1)\n",
    "\n",
    "#Dictionary with mixed keys\n",
    "_d2 = {'Name': 'Yesaswini', 'Lang_known':['C', 'C++', 'Java', 'Python']}\n",
    "print(_d2)\n",
    "\n",
    "#create a dict with list of tuples\n",
    "_d3 = dict([('Starters', 160), ('Biryani', 450)])\n",
    "print(_d3)\n"
   ]
  },
  {
   "cell_type": "markdown",
   "id": "39cf6f21",
   "metadata": {},
   "source": [
    "### Dictionary Accessing"
   ]
  },
  {
   "cell_type": "code",
   "execution_count": 8,
   "id": "f3bc18c6",
   "metadata": {},
   "outputs": [
    {
     "name": "stdout",
     "output_type": "stream",
     "text": [
      "5000\n"
     ]
    }
   ],
   "source": [
    "#Accessing values using key\n",
    "print(_d1['Apple'])"
   ]
  },
  {
   "cell_type": "code",
   "execution_count": 9,
   "id": "8c70916b",
   "metadata": {},
   "outputs": [
    {
     "ename": "KeyError",
     "evalue": "'Banana'",
     "output_type": "error",
     "traceback": [
      "\u001b[1;31m---------------------------------------------------------------------------\u001b[0m",
      "\u001b[1;31mKeyError\u001b[0m                                  Traceback (most recent call last)",
      "Input \u001b[1;32mIn [9]\u001b[0m, in \u001b[0;36m<cell line: 2>\u001b[1;34m()\u001b[0m\n\u001b[0;32m      1\u001b[0m \u001b[38;5;66;03m# if key is not present in our dictionary\u001b[39;00m\n\u001b[1;32m----> 2\u001b[0m \u001b[38;5;28mprint\u001b[39m(\u001b[43m_d1\u001b[49m\u001b[43m[\u001b[49m\u001b[38;5;124;43m'\u001b[39;49m\u001b[38;5;124;43mBanana\u001b[39;49m\u001b[38;5;124;43m'\u001b[39;49m\u001b[43m]\u001b[49m)\n",
      "\u001b[1;31mKeyError\u001b[0m: 'Banana'"
     ]
    }
   ],
   "source": [
    "# if key is not present in our dictionary\n",
    "print(_d1['Banana'])"
   ]
  },
  {
   "cell_type": "code",
   "execution_count": 10,
   "id": "853f7424",
   "metadata": {},
   "outputs": [
    {
     "name": "stdout",
     "output_type": "stream",
     "text": [
      "3000\n"
     ]
    }
   ],
   "source": [
    "#Another way of accessing \n",
    "print(_d1.get('Orange'))"
   ]
  },
  {
   "cell_type": "code",
   "execution_count": 11,
   "id": "474d75b4",
   "metadata": {},
   "outputs": [
    {
     "name": "stdout",
     "output_type": "stream",
     "text": [
      "['C', 'C++', 'Java', 'Python']\n"
     ]
    }
   ],
   "source": [
    "print(_d2.get('Lang_known'))"
   ]
  },
  {
   "cell_type": "code",
   "execution_count": 20,
   "id": "5d335de4",
   "metadata": {},
   "outputs": [
    {
     "name": "stdout",
     "output_type": "stream",
     "text": [
      "None\n"
     ]
    }
   ],
   "source": [
    "#if key is not present it will return None\n",
    "print(_d2.get('Age'))"
   ]
  },
  {
   "cell_type": "markdown",
   "id": "76b00a4a",
   "metadata": {},
   "source": [
    "### Dict add or modify elements"
   ]
  },
  {
   "cell_type": "code",
   "execution_count": 21,
   "id": "c219a835",
   "metadata": {},
   "outputs": [
    {
     "name": "stdout",
     "output_type": "stream",
     "text": [
      "{'Apple': 400}\n"
     ]
    }
   ],
   "source": [
    "#Update values\n",
    "_d1['Apple'] = 400\n",
    "print(_d1)"
   ]
  },
  {
   "cell_type": "code",
   "execution_count": 22,
   "id": "0a4ed9ed",
   "metadata": {},
   "outputs": [
    {
     "name": "stdout",
     "output_type": "stream",
     "text": [
      "{'Name': 'Yeshhu', 'Lang_known': ['C', 'C++', 'Java', 'Python']}\n"
     ]
    }
   ],
   "source": [
    "_d2['Name']= 'Yeshhu'\n",
    "print(_d2)"
   ]
  },
  {
   "cell_type": "markdown",
   "id": "75978eab",
   "metadata": {},
   "source": [
    "### Deleting or removing elements from a dict"
   ]
  },
  {
   "cell_type": "code",
   "execution_count": 14,
   "id": "1158b0aa",
   "metadata": {},
   "outputs": [
    {
     "name": "stdout",
     "output_type": "stream",
     "text": [
      "5000\n"
     ]
    }
   ],
   "source": [
    "# deleting particular elements in dict\n",
    "print(_d1.pop('Apple'))"
   ]
  },
  {
   "cell_type": "code",
   "execution_count": 15,
   "id": "73fbfe8b",
   "metadata": {},
   "outputs": [
    {
     "data": {
      "text/plain": [
       "('Orange', 3000)"
      ]
     },
     "execution_count": 15,
     "metadata": {},
     "output_type": "execute_result"
    }
   ],
   "source": [
    "#remove an orbitary key\n",
    "_d1.popitem()"
   ]
  },
  {
   "cell_type": "code",
   "execution_count": 18,
   "id": "77b86834",
   "metadata": {},
   "outputs": [
    {
     "data": {
      "text/plain": [
       "{}"
      ]
     },
     "execution_count": 18,
     "metadata": {},
     "output_type": "execute_result"
    }
   ],
   "source": [
    "_d1.clear()\n",
    "_d1"
   ]
  },
  {
   "cell_type": "markdown",
   "id": "5a337789",
   "metadata": {},
   "source": [
    "### Dictionary methods"
   ]
  },
  {
   "cell_type": "code",
   "execution_count": 23,
   "id": "8c54d535",
   "metadata": {},
   "outputs": [
    {
     "data": {
      "text/plain": [
       "dict_items([('shirt', 4000), ('T-shirt', 2000), ('Watch', 5000), ('Trousers', 1000)])"
      ]
     },
     "execution_count": 23,
     "metadata": {},
     "output_type": "execute_result"
    }
   ],
   "source": [
    "cart = {'shirt':4000, 'T-shirt':2000, 'Watch':5000, 'Trousers':1000}\n",
    "cart.items()"
   ]
  },
  {
   "cell_type": "code",
   "execution_count": 24,
   "id": "5516323d",
   "metadata": {},
   "outputs": [
    {
     "data": {
      "text/plain": [
       "dict_keys(['shirt', 'T-shirt', 'Watch', 'Trousers'])"
      ]
     },
     "execution_count": 24,
     "metadata": {},
     "output_type": "execute_result"
    }
   ],
   "source": [
    "cart.keys()"
   ]
  },
  {
   "cell_type": "code",
   "execution_count": 26,
   "id": "064c2a0b",
   "metadata": {},
   "outputs": [
    {
     "data": {
      "text/plain": [
       "dict_values([4000, 2000, 5000, 1000])"
      ]
     },
     "execution_count": 26,
     "metadata": {},
     "output_type": "execute_result"
    }
   ],
   "source": [
    "cart.values()"
   ]
  },
  {
   "cell_type": "code",
   "execution_count": 27,
   "id": "6b0dfdda",
   "metadata": {},
   "outputs": [
    {
     "name": "stdout",
     "output_type": "stream",
     "text": [
      "shirt = 4000\n",
      "T-shirt = 2000\n",
      "Watch = 5000\n",
      "Trousers = 1000\n"
     ]
    }
   ],
   "source": [
    "for item, price in cart.items():\n",
    "    print(item, \"=\", price)"
   ]
  },
  {
   "cell_type": "code",
   "execution_count": null,
   "id": "bf86f293",
   "metadata": {},
   "outputs": [],
   "source": []
  }
 ],
 "metadata": {
  "kernelspec": {
   "display_name": "Python 3 (ipykernel)",
   "language": "python",
   "name": "python3"
  },
  "language_info": {
   "codemirror_mode": {
    "name": "ipython",
    "version": 3
   },
   "file_extension": ".py",
   "mimetype": "text/x-python",
   "name": "python",
   "nbconvert_exporter": "python",
   "pygments_lexer": "ipython3",
   "version": "3.10.2"
  }
 },
 "nbformat": 4,
 "nbformat_minor": 5
}
