{
 "cells": [
  {
   "cell_type": "markdown",
   "id": "8252a05c",
   "metadata": {},
   "source": [
    "## LIST"
   ]
  },
  {
   "cell_type": "markdown",
   "id": "827f2c9f",
   "metadata": {},
   "source": [
    "- Lists are used to store heterogeneous elements\n",
    "- Lists are mutable\n",
    "- An empty list can be represented as\n",
    "    - a[] or l1=list()"
   ]
  },
  {
   "cell_type": "markdown",
   "id": "4faacf09",
   "metadata": {},
   "source": [
    "### Create a empty list"
   ]
  },
  {
   "cell_type": "code",
   "execution_count": 1,
   "id": "abefaa4b",
   "metadata": {},
   "outputs": [],
   "source": [
    "a=[]"
   ]
  },
  {
   "cell_type": "code",
   "execution_count": 2,
   "id": "a99463d1",
   "metadata": {},
   "outputs": [
    {
     "name": "stdout",
     "output_type": "stream",
     "text": [
      "<class 'list'>\n"
     ]
    }
   ],
   "source": [
    "print(type(a))"
   ]
  },
  {
   "cell_type": "code",
   "execution_count": 3,
   "id": "b7d41087",
   "metadata": {},
   "outputs": [],
   "source": [
    "b=list()"
   ]
  },
  {
   "cell_type": "code",
   "execution_count": 4,
   "id": "9ccf7871",
   "metadata": {},
   "outputs": [
    {
     "name": "stdout",
     "output_type": "stream",
     "text": [
      "<class 'list'>\n"
     ]
    }
   ],
   "source": [
    "print(type(b))"
   ]
  },
  {
   "cell_type": "code",
   "execution_count": 5,
   "id": "a705d257",
   "metadata": {},
   "outputs": [
    {
     "name": "stdout",
     "output_type": "stream",
     "text": [
      "[100, 200, 300, 400]\n"
     ]
    }
   ],
   "source": [
    "a=[100,200,300,400]\n",
    "print(a)"
   ]
  },
  {
   "cell_type": "code",
   "execution_count": 6,
   "id": "dcf630d0",
   "metadata": {},
   "outputs": [
    {
     "name": "stdout",
     "output_type": "stream",
     "text": [
      "['Y', 'e', 's', 'a', 's', 'w', 'i', 'n', 'i']\n"
     ]
    }
   ],
   "source": [
    "n=\"Yesaswini\"\n",
    "print(list(n))"
   ]
  },
  {
   "cell_type": "code",
   "execution_count": 7,
   "id": "5099bc14",
   "metadata": {},
   "outputs": [
    {
     "name": "stdout",
     "output_type": "stream",
     "text": [
      "['a', 'b', 'c', 'd']\n"
     ]
    }
   ],
   "source": [
    "b=[\"a\",\"b\",\"c\",\"d\"]\n",
    "print(b)"
   ]
  },
  {
   "cell_type": "code",
   "execution_count": 8,
   "id": "c0b01436",
   "metadata": {},
   "outputs": [
    {
     "name": "stdout",
     "output_type": "stream",
     "text": [
      "[10, 20, 'Yeshh', 300, 'Deepu']\n"
     ]
    }
   ],
   "source": [
    "c=[10,20,\"Yeshh\",300,\"Deepu\"]\n",
    "print(c)"
   ]
  },
  {
   "cell_type": "markdown",
   "id": "5f47d7ae",
   "metadata": {},
   "source": [
    "### Accessing list elements"
   ]
  },
  {
   "cell_type": "code",
   "execution_count": 14,
   "id": "edb79fe9",
   "metadata": {},
   "outputs": [],
   "source": [
    "c=[10, \"Yeshh\", 300, 400, \"Sunny\"]"
   ]
  },
  {
   "cell_type": "code",
   "execution_count": 15,
   "id": "56c9ef24",
   "metadata": {},
   "outputs": [
    {
     "data": {
      "text/plain": [
       "'Yeshh'"
      ]
     },
     "execution_count": 15,
     "metadata": {},
     "output_type": "execute_result"
    }
   ],
   "source": [
    "c[1]"
   ]
  },
  {
   "cell_type": "code",
   "execution_count": 16,
   "id": "469b0ef0",
   "metadata": {},
   "outputs": [
    {
     "data": {
      "text/plain": [
       "[10, 'Yeshh', 300]"
      ]
     },
     "execution_count": 16,
     "metadata": {},
     "output_type": "execute_result"
    }
   ],
   "source": [
    "c[:3]"
   ]
  },
  {
   "cell_type": "code",
   "execution_count": 17,
   "id": "37d4d4b2",
   "metadata": {},
   "outputs": [
    {
     "data": {
      "text/plain": [
       "'Sunny'"
      ]
     },
     "execution_count": 17,
     "metadata": {},
     "output_type": "execute_result"
    }
   ],
   "source": [
    "c[-1]"
   ]
  },
  {
   "cell_type": "code",
   "execution_count": 18,
   "id": "782accda",
   "metadata": {},
   "outputs": [
    {
     "data": {
      "text/plain": [
       "[300, 400, 'Sunny']"
      ]
     },
     "execution_count": 18,
     "metadata": {},
     "output_type": "execute_result"
    }
   ],
   "source": [
    "c[-3:]"
   ]
  },
  {
   "cell_type": "code",
   "execution_count": 19,
   "id": "1c25c520",
   "metadata": {},
   "outputs": [],
   "source": [
    "# List will support 2 basic operators\n",
    "# + -->used for concatination\n",
    "# * --> used for repetition"
   ]
  },
  {
   "cell_type": "code",
   "execution_count": 20,
   "id": "88f2ecfd",
   "metadata": {},
   "outputs": [
    {
     "name": "stdout",
     "output_type": "stream",
     "text": [
      "[10, 20, 30, 40, 50, 60]\n"
     ]
    }
   ],
   "source": [
    "l1 = [10, 20, 30]\n",
    "l2 = [40, 50, 60]\n",
    "print(l1+l2)"
   ]
  },
  {
   "cell_type": "code",
   "execution_count": 21,
   "id": "f0f02be1",
   "metadata": {},
   "outputs": [
    {
     "name": "stdout",
     "output_type": "stream",
     "text": [
      "[40, 50, 60, 10, 20, 30]\n"
     ]
    }
   ],
   "source": [
    "print(l2+l1)"
   ]
  },
  {
   "cell_type": "code",
   "execution_count": 3,
   "id": "1525321a",
   "metadata": {},
   "outputs": [
    {
     "name": "stdout",
     "output_type": "stream",
     "text": [
      "I\n",
      "Vowel\n"
     ]
    }
   ],
   "source": [
    "chh=input()\n",
    "if chh in 'AEIOUaeiou':\n",
    "    print('Vowel')\n",
    "else:\n",
    "    print('consonant')"
   ]
  },
  {
   "cell_type": "markdown",
   "id": "8df0d328",
   "metadata": {},
   "source": [
    "### List operations"
   ]
  },
  {
   "cell_type": "code",
   "execution_count": 21,
   "id": "8801e142",
   "metadata": {},
   "outputs": [],
   "source": [
    "# update an element in list"
   ]
  },
  {
   "cell_type": "code",
   "execution_count": 5,
   "id": "1f9a3aee",
   "metadata": {},
   "outputs": [],
   "source": [
    "l = [100, 200, 300]"
   ]
  },
  {
   "cell_type": "code",
   "execution_count": 6,
   "id": "389ce59e",
   "metadata": {},
   "outputs": [],
   "source": [
    "l[1] = 25"
   ]
  },
  {
   "cell_type": "code",
   "execution_count": 7,
   "id": "9cb9811b",
   "metadata": {},
   "outputs": [
    {
     "data": {
      "text/plain": [
       "[100, 25, 300]"
      ]
     },
     "execution_count": 7,
     "metadata": {},
     "output_type": "execute_result"
    }
   ],
   "source": [
    "l"
   ]
  },
  {
   "cell_type": "code",
   "execution_count": 8,
   "id": "ea783e02",
   "metadata": {},
   "outputs": [],
   "source": [
    "# delete an element in list\n",
    "del l[-1]"
   ]
  },
  {
   "cell_type": "code",
   "execution_count": 9,
   "id": "46b426a1",
   "metadata": {},
   "outputs": [
    {
     "name": "stdout",
     "output_type": "stream",
     "text": [
      "[100, 25]\n"
     ]
    }
   ],
   "source": [
    "print(l)"
   ]
  },
  {
   "cell_type": "code",
   "execution_count": 10,
   "id": "80192c72",
   "metadata": {},
   "outputs": [],
   "source": [
    "# Add a list as member or item of another list"
   ]
  },
  {
   "cell_type": "code",
   "execution_count": 12,
   "id": "7f094985",
   "metadata": {},
   "outputs": [
    {
     "name": "stdout",
     "output_type": "stream",
     "text": [
      "[5438, 'Yeshhh', 'AI&DS', [100, 200, 300]]\n"
     ]
    }
   ],
   "source": [
    "a = [5438, \"Yeshhh\", \"AI&DS\", [100, 200, 300]]\n",
    "print(a)"
   ]
  },
  {
   "cell_type": "code",
   "execution_count": 13,
   "id": "f935b4b4",
   "metadata": {},
   "outputs": [
    {
     "name": "stdout",
     "output_type": "stream",
     "text": [
      "300\n"
     ]
    }
   ],
   "source": [
    "#Access 30\n",
    "print(a[3][2])"
   ]
  },
  {
   "cell_type": "code",
   "execution_count": 14,
   "id": "1ebdf2dc",
   "metadata": {},
   "outputs": [
    {
     "name": "stdout",
     "output_type": "stream",
     "text": [
      "e\n"
     ]
    }
   ],
   "source": [
    "#access e in reshma\n",
    "print(a[1][1])"
   ]
  },
  {
   "cell_type": "code",
   "execution_count": 20,
   "id": "f49f011f",
   "metadata": {},
   "outputs": [],
   "source": [
    "#update last 2 ellements in the list\n",
    "l = [10, 20, 30, 40, 70]"
   ]
  },
  {
   "cell_type": "code",
   "execution_count": 21,
   "id": "5432f8c9",
   "metadata": {},
   "outputs": [],
   "source": [
    "l[-2:] = [45,55]"
   ]
  },
  {
   "cell_type": "code",
   "execution_count": 22,
   "id": "b2515d28",
   "metadata": {},
   "outputs": [
    {
     "data": {
      "text/plain": [
       "[10, 20, 30, 45, 55]"
      ]
     },
     "execution_count": 22,
     "metadata": {},
     "output_type": "execute_result"
    }
   ],
   "source": [
    "l"
   ]
  },
  {
   "cell_type": "code",
   "execution_count": 23,
   "id": "92ccc4a5",
   "metadata": {},
   "outputs": [
    {
     "data": {
      "text/plain": [
       "160"
      ]
     },
     "execution_count": 23,
     "metadata": {},
     "output_type": "execute_result"
    }
   ],
   "source": [
    "#sum of elements in the list\n",
    "sum(l)"
   ]
  },
  {
   "cell_type": "code",
   "execution_count": 24,
   "id": "8459f1c1",
   "metadata": {},
   "outputs": [
    {
     "data": {
      "text/plain": [
       "45"
      ]
     },
     "execution_count": 24,
     "metadata": {},
     "output_type": "execute_result"
    }
   ],
   "source": [
    "sum(range(1, 10))"
   ]
  },
  {
   "cell_type": "code",
   "execution_count": 25,
   "id": "62d6eb9b",
   "metadata": {},
   "outputs": [
    {
     "data": {
      "text/plain": [
       "55"
      ]
     },
     "execution_count": 25,
     "metadata": {},
     "output_type": "execute_result"
    }
   ],
   "source": [
    "max(l)"
   ]
  },
  {
   "cell_type": "code",
   "execution_count": 26,
   "id": "d91ed137",
   "metadata": {},
   "outputs": [
    {
     "data": {
      "text/plain": [
       "10"
      ]
     },
     "execution_count": 26,
     "metadata": {},
     "output_type": "execute_result"
    }
   ],
   "source": [
    "min(l)"
   ]
  },
  {
   "cell_type": "code",
   "execution_count": 27,
   "id": "136f96e9",
   "metadata": {},
   "outputs": [
    {
     "data": {
      "text/plain": [
       "5"
      ]
     },
     "execution_count": 27,
     "metadata": {},
     "output_type": "execute_result"
    }
   ],
   "source": [
    "len(l)"
   ]
  },
  {
   "cell_type": "code",
   "execution_count": 28,
   "id": "ffe8dfe0",
   "metadata": {},
   "outputs": [
    {
     "ename": "ValueError",
     "evalue": "too many values to unpack (expected 2)",
     "output_type": "error",
     "traceback": [
      "\u001b[1;31m---------------------------------------------------------------------------\u001b[0m",
      "\u001b[1;31mValueError\u001b[0m                                Traceback (most recent call last)",
      "Input \u001b[1;32mIn [28]\u001b[0m, in \u001b[0;36m<cell line: 2>\u001b[1;34m()\u001b[0m\n\u001b[0;32m      1\u001b[0m m \u001b[38;5;241m=\u001b[39m [\u001b[38;5;241m87\u001b[39m, \u001b[38;5;241m54\u001b[39m, \u001b[38;5;241m25\u001b[39m, \u001b[38;5;241m19\u001b[39m, \u001b[38;5;241m85\u001b[39m]\n\u001b[1;32m----> 2\u001b[0m m1, m2 \u001b[38;5;241m=\u001b[39m m\n\u001b[0;32m      3\u001b[0m \u001b[38;5;28mprint\u001b[39m(m1, m2)\n",
      "\u001b[1;31mValueError\u001b[0m: too many values to unpack (expected 2)"
     ]
    }
   ],
   "source": [
    "m = [87, 54, 25, 19, 85]\n",
    "m1, m2 = m\n",
    "print(m1, m2)"
   ]
  },
  {
   "cell_type": "markdown",
   "id": "7ba8ec27",
   "metadata": {},
   "source": [
    "### Bulit in functions in list"
   ]
  },
  {
   "cell_type": "code",
   "execution_count": 29,
   "id": "0546274c",
   "metadata": {},
   "outputs": [],
   "source": [
    "# append  --> add new element at the end of the list"
   ]
  },
  {
   "cell_type": "code",
   "execution_count": 30,
   "id": "b7e5beb3",
   "metadata": {},
   "outputs": [
    {
     "data": {
      "text/plain": [
       "[1, 2, 3, 4]"
      ]
     },
     "execution_count": 30,
     "metadata": {},
     "output_type": "execute_result"
    }
   ],
   "source": [
    "l=[1, 2, 3, 4]\n",
    "l"
   ]
  },
  {
   "cell_type": "code",
   "execution_count": 33,
   "id": "353549a3",
   "metadata": {},
   "outputs": [],
   "source": [
    "l.append(6)"
   ]
  },
  {
   "cell_type": "code",
   "execution_count": 34,
   "id": "dcdacd44",
   "metadata": {},
   "outputs": [
    {
     "data": {
      "text/plain": [
       "[1, 2, 3, 4, 4, 6]"
      ]
     },
     "execution_count": 34,
     "metadata": {},
     "output_type": "execute_result"
    }
   ],
   "source": [
    "l"
   ]
  },
  {
   "cell_type": "code",
   "execution_count": 35,
   "id": "7856bb89",
   "metadata": {},
   "outputs": [],
   "source": [
    "# insert -->used to insert a element based on the position\n",
    "# syntax:  listnameinsert(index,ele)"
   ]
  },
  {
   "cell_type": "code",
   "execution_count": 36,
   "id": "c8e49b7b",
   "metadata": {},
   "outputs": [],
   "source": [
    "l1 = [11, 22, 33, 55]"
   ]
  },
  {
   "cell_type": "code",
   "execution_count": 37,
   "id": "2d2b3429",
   "metadata": {},
   "outputs": [],
   "source": [
    "l1.insert(2,25)"
   ]
  },
  {
   "cell_type": "code",
   "execution_count": 38,
   "id": "9bcddc6d",
   "metadata": {},
   "outputs": [
    {
     "data": {
      "text/plain": [
       "[11, 22, 25, 33, 55]"
      ]
     },
     "execution_count": 38,
     "metadata": {},
     "output_type": "execute_result"
    }
   ],
   "source": [
    "l1"
   ]
  },
  {
   "cell_type": "code",
   "execution_count": 39,
   "id": "27deb0b9",
   "metadata": {},
   "outputs": [],
   "source": [
    "# remove --> used to remove the element based on value"
   ]
  },
  {
   "cell_type": "code",
   "execution_count": 40,
   "id": "52d54b22",
   "metadata": {},
   "outputs": [
    {
     "data": {
      "text/plain": [
       "[11, 22, 25, 33, 55]"
      ]
     },
     "execution_count": 40,
     "metadata": {},
     "output_type": "execute_result"
    }
   ],
   "source": [
    "l1"
   ]
  },
  {
   "cell_type": "code",
   "execution_count": 41,
   "id": "4e507a29",
   "metadata": {},
   "outputs": [],
   "source": [
    "l1.remove(33)"
   ]
  },
  {
   "cell_type": "code",
   "execution_count": 42,
   "id": "781c4967",
   "metadata": {},
   "outputs": [
    {
     "data": {
      "text/plain": [
       "[11, 22, 25, 55]"
      ]
     },
     "execution_count": 42,
     "metadata": {},
     "output_type": "execute_result"
    }
   ],
   "source": [
    "l1"
   ]
  },
  {
   "cell_type": "code",
   "execution_count": 43,
   "id": "aa66c4c5",
   "metadata": {},
   "outputs": [],
   "source": [
    "# pop()  ->used to delete the last elemnt from the list and the value will be return from the function"
   ]
  },
  {
   "cell_type": "code",
   "execution_count": 44,
   "id": "84a029d5",
   "metadata": {},
   "outputs": [
    {
     "data": {
      "text/plain": [
       "10"
      ]
     },
     "execution_count": 44,
     "metadata": {},
     "output_type": "execute_result"
    }
   ],
   "source": [
    "s = [1, 2, 3, 10]\n",
    "s.pop()"
   ]
  },
  {
   "cell_type": "code",
   "execution_count": 45,
   "id": "edb35d05",
   "metadata": {},
   "outputs": [],
   "source": [
    "# extend()  ->used to extend the list\n",
    "# syntax : listname.extend(value)"
   ]
  },
  {
   "cell_type": "code",
   "execution_count": 46,
   "id": "bb3d72f9",
   "metadata": {},
   "outputs": [],
   "source": [
    "a = [10, 20, 30]\n",
    "a.extend([40, 50, 60])"
   ]
  },
  {
   "cell_type": "code",
   "execution_count": 47,
   "id": "9963f5a1",
   "metadata": {},
   "outputs": [
    {
     "data": {
      "text/plain": [
       "[10, 20, 30, 40, 50, 60]"
      ]
     },
     "execution_count": 47,
     "metadata": {},
     "output_type": "execute_result"
    }
   ],
   "source": [
    "a"
   ]
  },
  {
   "cell_type": "code",
   "execution_count": 48,
   "id": "7b5e0cf3",
   "metadata": {},
   "outputs": [],
   "source": [
    "# count() --> used to return the frequency of the value in the given list"
   ]
  },
  {
   "cell_type": "code",
   "execution_count": 49,
   "id": "7e3adb11",
   "metadata": {},
   "outputs": [
    {
     "data": {
      "text/plain": [
       "3"
      ]
     },
     "execution_count": 49,
     "metadata": {},
     "output_type": "execute_result"
    }
   ],
   "source": [
    "r = [1, 2, 3, 1, 6, 3, 1, 7]\n",
    "r.count(1)"
   ]
  },
  {
   "cell_type": "code",
   "execution_count": 71,
   "id": "83852f0b",
   "metadata": {},
   "outputs": [],
   "source": [
    "#sort()  ->used to sort the list in ascending order"
   ]
  },
  {
   "cell_type": "code",
   "execution_count": 50,
   "id": "bd2e1807",
   "metadata": {},
   "outputs": [],
   "source": [
    "a = [2, 3, 1, 5, 0]"
   ]
  },
  {
   "cell_type": "code",
   "execution_count": 51,
   "id": "364fb21c",
   "metadata": {},
   "outputs": [],
   "source": [
    "a.sort()"
   ]
  },
  {
   "cell_type": "code",
   "execution_count": 52,
   "id": "acbaa31e",
   "metadata": {},
   "outputs": [
    {
     "data": {
      "text/plain": [
       "[0, 1, 2, 3, 5]"
      ]
     },
     "execution_count": 52,
     "metadata": {},
     "output_type": "execute_result"
    }
   ],
   "source": [
    "a"
   ]
  },
  {
   "cell_type": "code",
   "execution_count": 53,
   "id": "ae51fecb",
   "metadata": {},
   "outputs": [],
   "source": [
    "a.sort(reverse=True)"
   ]
  },
  {
   "cell_type": "code",
   "execution_count": 54,
   "id": "51edc3d4",
   "metadata": {},
   "outputs": [
    {
     "data": {
      "text/plain": [
       "[5, 3, 2, 1, 0]"
      ]
     },
     "execution_count": 54,
     "metadata": {},
     "output_type": "execute_result"
    }
   ],
   "source": [
    "a"
   ]
  },
  {
   "cell_type": "code",
   "execution_count": 55,
   "id": "5201fce0",
   "metadata": {},
   "outputs": [
    {
     "data": {
      "text/plain": [
       "[0, 1, 2, 3, 5]"
      ]
     },
     "execution_count": 55,
     "metadata": {},
     "output_type": "execute_result"
    }
   ],
   "source": [
    "sorted(a)"
   ]
  },
  {
   "cell_type": "code",
   "execution_count": 78,
   "id": "98b7552a",
   "metadata": {},
   "outputs": [],
   "source": [
    "#copy()"
   ]
  },
  {
   "cell_type": "code",
   "execution_count": 58,
   "id": "0d243ad1",
   "metadata": {},
   "outputs": [],
   "source": [
    "a = [1, 2, 3, 4]\n",
    "b = a.copy()"
   ]
  },
  {
   "cell_type": "code",
   "execution_count": 59,
   "id": "3526e007",
   "metadata": {},
   "outputs": [
    {
     "data": {
      "text/plain": [
       "[1, 2, 3, 4]"
      ]
     },
     "execution_count": 59,
     "metadata": {},
     "output_type": "execute_result"
    }
   ],
   "source": [
    "b"
   ]
  },
  {
   "cell_type": "code",
   "execution_count": 60,
   "id": "35908217",
   "metadata": {},
   "outputs": [],
   "source": [
    "a.append(10)"
   ]
  },
  {
   "cell_type": "code",
   "execution_count": 61,
   "id": "e45ce501",
   "metadata": {},
   "outputs": [
    {
     "data": {
      "text/plain": [
       "[1, 2, 3, 4]"
      ]
     },
     "execution_count": 61,
     "metadata": {},
     "output_type": "execute_result"
    }
   ],
   "source": [
    "b"
   ]
  },
  {
   "cell_type": "code",
   "execution_count": 62,
   "id": "a4a4a730",
   "metadata": {},
   "outputs": [],
   "source": [
    "#see the difference blw copy and a=b"
   ]
  },
  {
   "cell_type": "code",
   "execution_count": 63,
   "id": "a859ba5a",
   "metadata": {},
   "outputs": [],
   "source": [
    "c = [1, 2, 3, 4]\n",
    "d = c"
   ]
  },
  {
   "cell_type": "code",
   "execution_count": 64,
   "id": "1e77fc13",
   "metadata": {},
   "outputs": [],
   "source": [
    "c.append(10)"
   ]
  },
  {
   "cell_type": "code",
   "execution_count": 65,
   "id": "c0419bdc",
   "metadata": {},
   "outputs": [
    {
     "data": {
      "text/plain": [
       "[1, 2, 3, 4, 10]"
      ]
     },
     "execution_count": 65,
     "metadata": {},
     "output_type": "execute_result"
    }
   ],
   "source": [
    "d"
   ]
  },
  {
   "cell_type": "code",
   "execution_count": 66,
   "id": "c8970699",
   "metadata": {},
   "outputs": [],
   "source": [
    "#index --> it will return the index of the first occured element"
   ]
  },
  {
   "cell_type": "code",
   "execution_count": 67,
   "id": "471ef6a3",
   "metadata": {},
   "outputs": [],
   "source": [
    "a = [1, 2, 3, 4, 5, 6]"
   ]
  },
  {
   "cell_type": "code",
   "execution_count": 68,
   "id": "62c0833d",
   "metadata": {},
   "outputs": [
    {
     "data": {
      "text/plain": [
       "5"
      ]
     },
     "execution_count": 68,
     "metadata": {},
     "output_type": "execute_result"
    }
   ],
   "source": [
    "a.index(6)"
   ]
  },
  {
   "cell_type": "code",
   "execution_count": 69,
   "id": "e651d067",
   "metadata": {},
   "outputs": [],
   "source": [
    "#enumerate()"
   ]
  },
  {
   "cell_type": "code",
   "execution_count": 71,
   "id": "86f13ee0",
   "metadata": {},
   "outputs": [
    {
     "name": "stdout",
     "output_type": "stream",
     "text": [
      "0 1\n",
      "1 32\n",
      "2 1\n",
      "3 17\n",
      "4 8\n",
      "5 9\n",
      "6 5\n"
     ]
    }
   ],
   "source": [
    "s = [1, 32, 1, 17, 8, 9, 5]\n",
    "for i, value in enumerate(s):\n",
    "    print(i, value)"
   ]
  },
  {
   "cell_type": "code",
   "execution_count": 73,
   "id": "b41a3c25",
   "metadata": {},
   "outputs": [
    {
     "name": "stdout",
     "output_type": "stream",
     "text": [
      "0 5\n",
      "1 8\n",
      "2 1\n",
      "3 6\n"
     ]
    }
   ],
   "source": [
    "e = [(0, 5), (1, 8), (2, 1), (3, 6)]\n",
    "for i, value in e:\n",
    "    print(i, value)"
   ]
  },
  {
   "cell_type": "markdown",
   "id": "3222fc11",
   "metadata": {},
   "source": [
    "# SET"
   ]
  },
  {
   "cell_type": "markdown",
   "id": "582d7d67",
   "metadata": {},
   "source": [
    "- Set is a Collection of elements\n",
    "- It is Unordered\n",
    "- It is Unindexed\n",
    "- It will not allow duplicates\n",
    "- Set is mutable\n",
    "- Represent a set = > {}\n",
    "- or a=set()"
   ]
  },
  {
   "cell_type": "markdown",
   "id": "082a41e9",
   "metadata": {},
   "source": [
    "### Create a set with collection of elements"
   ]
  },
  {
   "cell_type": "code",
   "execution_count": 76,
   "id": "7d5c0934",
   "metadata": {},
   "outputs": [],
   "source": [
    "s = {1, 2, 3, 4, 5, 11, 22, 33}"
   ]
  },
  {
   "cell_type": "code",
   "execution_count": 77,
   "id": "d0046fd2",
   "metadata": {},
   "outputs": [
    {
     "data": {
      "text/plain": [
       "{1, 2, 3, 4, 5, 11, 22, 33}"
      ]
     },
     "execution_count": 77,
     "metadata": {},
     "output_type": "execute_result"
    }
   ],
   "source": [
    "s"
   ]
  },
  {
   "cell_type": "code",
   "execution_count": 78,
   "id": "10709855",
   "metadata": {},
   "outputs": [
    {
     "name": "stdout",
     "output_type": "stream",
     "text": [
      "{'i', 'Y', 'e', 'w', 'a', 'n', 's'}\n"
     ]
    }
   ],
   "source": [
    "name=\"Yesaswini\"\n",
    "print(set(name))"
   ]
  },
  {
   "cell_type": "markdown",
   "id": "0eaf13d5",
   "metadata": {},
   "source": [
    "### Type conversions"
   ]
  },
  {
   "cell_type": "code",
   "execution_count": 79,
   "id": "59d1b111",
   "metadata": {},
   "outputs": [],
   "source": [
    "s = set([1, 2, 3, 4]) # => list to set"
   ]
  },
  {
   "cell_type": "code",
   "execution_count": 80,
   "id": "b397de7b",
   "metadata": {},
   "outputs": [
    {
     "data": {
      "text/plain": [
       "{1, 2, 3, 4}"
      ]
     },
     "execution_count": 80,
     "metadata": {},
     "output_type": "execute_result"
    }
   ],
   "source": [
    "s"
   ]
  },
  {
   "cell_type": "code",
   "execution_count": 81,
   "id": "47ef1651",
   "metadata": {},
   "outputs": [],
   "source": [
    "s1 = set((1, 2, 3, 4, 5))  # => tuple to set"
   ]
  },
  {
   "cell_type": "code",
   "execution_count": 82,
   "id": "05721ff2",
   "metadata": {},
   "outputs": [
    {
     "data": {
      "text/plain": [
       "{1, 2, 3, 4, 5}"
      ]
     },
     "execution_count": 82,
     "metadata": {},
     "output_type": "execute_result"
    }
   ],
   "source": [
    "s1"
   ]
  },
  {
   "cell_type": "markdown",
   "id": "9360c277",
   "metadata": {},
   "source": [
    "### Bssic operations supported in python"
   ]
  },
  {
   "cell_type": "code",
   "execution_count": 83,
   "id": "a26c3a17",
   "metadata": {},
   "outputs": [],
   "source": [
    "# Union(|)\n",
    "# Intersection (&)\n",
    "# Difference (-)\n",
    "# Subset (<,<=)\n",
    "#Superset (>)\n",
    "#Symmetric Difference (^)"
   ]
  },
  {
   "cell_type": "code",
   "execution_count": 84,
   "id": "714c3b13",
   "metadata": {},
   "outputs": [],
   "source": [
    "s1 = {1, 2, 3, 4, 5}\n",
    "s2 = {4, 5, 6, 7, 8}"
   ]
  },
  {
   "cell_type": "code",
   "execution_count": 86,
   "id": "3efdf164",
   "metadata": {},
   "outputs": [
    {
     "data": {
      "text/plain": [
       "{1, 2, 3, 4, 5, 6, 7, 8}"
      ]
     },
     "execution_count": 86,
     "metadata": {},
     "output_type": "execute_result"
    }
   ],
   "source": [
    "s3 = s1 | s2\n",
    "s3"
   ]
  },
  {
   "cell_type": "code",
   "execution_count": 87,
   "id": "ff46d9fd",
   "metadata": {},
   "outputs": [
    {
     "data": {
      "text/plain": [
       "{4, 5}"
      ]
     },
     "execution_count": 87,
     "metadata": {},
     "output_type": "execute_result"
    }
   ],
   "source": [
    "s4 = s1 & s2\n",
    "s4"
   ]
  },
  {
   "cell_type": "code",
   "execution_count": 88,
   "id": "bd756bfc",
   "metadata": {},
   "outputs": [
    {
     "data": {
      "text/plain": [
       "{1, 2, 3}"
      ]
     },
     "execution_count": 88,
     "metadata": {},
     "output_type": "execute_result"
    }
   ],
   "source": [
    "s5 = s1 - s2\n",
    "s5"
   ]
  },
  {
   "cell_type": "code",
   "execution_count": 89,
   "id": "3fecb82c",
   "metadata": {},
   "outputs": [
    {
     "data": {
      "text/plain": [
       "{6, 7, 8}"
      ]
     },
     "execution_count": 89,
     "metadata": {},
     "output_type": "execute_result"
    }
   ],
   "source": [
    "s6 = s2 - s1\n",
    "s6"
   ]
  },
  {
   "cell_type": "code",
   "execution_count": 90,
   "id": "ff880367",
   "metadata": {},
   "outputs": [
    {
     "data": {
      "text/plain": [
       "{1, 2, 3, 6, 7, 8}"
      ]
     },
     "execution_count": 90,
     "metadata": {},
     "output_type": "execute_result"
    }
   ],
   "source": [
    "s7 = s1 ^ s2\n",
    "s7"
   ]
  },
  {
   "cell_type": "code",
   "execution_count": 91,
   "id": "fdeac921",
   "metadata": {},
   "outputs": [
    {
     "data": {
      "text/plain": [
       "False"
      ]
     },
     "execution_count": 91,
     "metadata": {},
     "output_type": "execute_result"
    }
   ],
   "source": [
    "s1 < s2"
   ]
  },
  {
   "cell_type": "code",
   "execution_count": 92,
   "id": "07c3522d",
   "metadata": {},
   "outputs": [
    {
     "data": {
      "text/plain": [
       "False"
      ]
     },
     "execution_count": 92,
     "metadata": {},
     "output_type": "execute_result"
    }
   ],
   "source": [
    "s1 <= s2"
   ]
  },
  {
   "cell_type": "code",
   "execution_count": 93,
   "id": "c11140f2",
   "metadata": {},
   "outputs": [
    {
     "data": {
      "text/plain": [
       "False"
      ]
     },
     "execution_count": 93,
     "metadata": {},
     "output_type": "execute_result"
    }
   ],
   "source": [
    "s1 > s2"
   ]
  },
  {
   "cell_type": "code",
   "execution_count": 94,
   "id": "1266186e",
   "metadata": {},
   "outputs": [
    {
     "data": {
      "text/plain": [
       "False"
      ]
     },
     "execution_count": 94,
     "metadata": {},
     "output_type": "execute_result"
    }
   ],
   "source": [
    "s2 > s1"
   ]
  },
  {
   "cell_type": "code",
   "execution_count": 95,
   "id": "caca817f",
   "metadata": {},
   "outputs": [
    {
     "name": "stdout",
     "output_type": "stream",
     "text": [
      "True\n"
     ]
    }
   ],
   "source": [
    "a = {1, 2, 3, 4, 5, 6}\n",
    "b = {1, 2, 3}\n",
    "print(a>b)"
   ]
  },
  {
   "cell_type": "code",
   "execution_count": 96,
   "id": "a9f2a57b",
   "metadata": {},
   "outputs": [
    {
     "name": "stdout",
     "output_type": "stream",
     "text": [
      "True\n"
     ]
    }
   ],
   "source": [
    "print(b<a)"
   ]
  },
  {
   "cell_type": "markdown",
   "id": "8315fc66",
   "metadata": {},
   "source": [
    "### Set methods"
   ]
  },
  {
   "cell_type": "code",
   "execution_count": 97,
   "id": "e8bb9829",
   "metadata": {},
   "outputs": [
    {
     "name": "stdout",
     "output_type": "stream",
     "text": [
      "{1, 2, 3}\n"
     ]
    }
   ],
   "source": [
    "# add() --> similar to append in list\n",
    "q1 = {1, 2, 3}\n",
    "print(q1)\n"
   ]
  },
  {
   "cell_type": "code",
   "execution_count": 98,
   "id": "441c19cd",
   "metadata": {},
   "outputs": [],
   "source": [
    "q1.add(4)"
   ]
  },
  {
   "cell_type": "code",
   "execution_count": 99,
   "id": "29aff299",
   "metadata": {},
   "outputs": [
    {
     "data": {
      "text/plain": [
       "{1, 2, 3, 4}"
      ]
     },
     "execution_count": 99,
     "metadata": {},
     "output_type": "execute_result"
    }
   ],
   "source": [
    "q1"
   ]
  },
  {
   "cell_type": "code",
   "execution_count": 100,
   "id": "e72d5e08",
   "metadata": {},
   "outputs": [],
   "source": [
    "# remove() --> used to remove the elemnt based on value"
   ]
  },
  {
   "cell_type": "code",
   "execution_count": 101,
   "id": "c4cdf9e8",
   "metadata": {},
   "outputs": [],
   "source": [
    "q1.remove(3)"
   ]
  },
  {
   "cell_type": "code",
   "execution_count": 102,
   "id": "32657aed",
   "metadata": {},
   "outputs": [
    {
     "data": {
      "text/plain": [
       "{1, 2, 4}"
      ]
     },
     "execution_count": 102,
     "metadata": {},
     "output_type": "execute_result"
    }
   ],
   "source": [
    "q1"
   ]
  },
  {
   "cell_type": "code",
   "execution_count": 103,
   "id": "d7b799a4",
   "metadata": {},
   "outputs": [],
   "source": [
    "#update() ->similar to union() function"
   ]
  },
  {
   "cell_type": "code",
   "execution_count": 104,
   "id": "0738f52a",
   "metadata": {},
   "outputs": [],
   "source": [
    "q1 = {1, 2, 3}\n",
    "q2 = {4, 5, 6}"
   ]
  },
  {
   "cell_type": "code",
   "execution_count": 105,
   "id": "9a8096d3",
   "metadata": {},
   "outputs": [],
   "source": [
    "q1.update(q2)"
   ]
  },
  {
   "cell_type": "code",
   "execution_count": 106,
   "id": "8834271f",
   "metadata": {},
   "outputs": [
    {
     "name": "stdout",
     "output_type": "stream",
     "text": [
      "{1, 2, 3, 4, 5, 6}\n"
     ]
    }
   ],
   "source": [
    "print(q1)"
   ]
  },
  {
   "cell_type": "code",
   "execution_count": 107,
   "id": "96ba69c1",
   "metadata": {},
   "outputs": [],
   "source": [
    "# differnce()"
   ]
  },
  {
   "cell_type": "code",
   "execution_count": 108,
   "id": "62c1c089",
   "metadata": {},
   "outputs": [
    {
     "data": {
      "text/plain": [
       "{1, 2}"
      ]
     },
     "execution_count": 108,
     "metadata": {},
     "output_type": "execute_result"
    }
   ],
   "source": [
    "q1 = {1, 2, 3}\n",
    "q2 = {3, 4, 5}\n",
    "q1.difference(q2)"
   ]
  },
  {
   "cell_type": "code",
   "execution_count": 109,
   "id": "64f9e5da",
   "metadata": {},
   "outputs": [
    {
     "data": {
      "text/plain": [
       "{1, 2, 3}"
      ]
     },
     "execution_count": 109,
     "metadata": {},
     "output_type": "execute_result"
    }
   ],
   "source": [
    "q1"
   ]
  },
  {
   "cell_type": "code",
   "execution_count": 110,
   "id": "06d5cc56",
   "metadata": {},
   "outputs": [
    {
     "data": {
      "text/plain": [
       "{3, 4, 5}"
      ]
     },
     "execution_count": 110,
     "metadata": {},
     "output_type": "execute_result"
    }
   ],
   "source": [
    "q2\n"
   ]
  },
  {
   "cell_type": "code",
   "execution_count": 111,
   "id": "25b6ccae",
   "metadata": {},
   "outputs": [],
   "source": [
    "# differnce_update()\n",
    "# here performs differnce blw q1 , q2 and result will be updated into q1"
   ]
  },
  {
   "cell_type": "code",
   "execution_count": 112,
   "id": "b060dd00",
   "metadata": {},
   "outputs": [],
   "source": [
    "q1.difference_update(q2)"
   ]
  },
  {
   "cell_type": "code",
   "execution_count": 113,
   "id": "ac203850",
   "metadata": {},
   "outputs": [
    {
     "data": {
      "text/plain": [
       "{1, 2}"
      ]
     },
     "execution_count": 113,
     "metadata": {},
     "output_type": "execute_result"
    }
   ],
   "source": [
    "q1"
   ]
  },
  {
   "cell_type": "code",
   "execution_count": 114,
   "id": "070a8e02",
   "metadata": {},
   "outputs": [
    {
     "data": {
      "text/plain": [
       "{3, 4, 5}"
      ]
     },
     "execution_count": 114,
     "metadata": {},
     "output_type": "execute_result"
    }
   ],
   "source": [
    "q2"
   ]
  },
  {
   "cell_type": "code",
   "execution_count": 115,
   "id": "05b4cc6a",
   "metadata": {},
   "outputs": [],
   "source": [
    "#intersection()"
   ]
  },
  {
   "cell_type": "code",
   "execution_count": 116,
   "id": "34464ccb",
   "metadata": {},
   "outputs": [],
   "source": [
    "q1={1,2,3}\n",
    "q2={3,4,5}"
   ]
  },
  {
   "cell_type": "code",
   "execution_count": 117,
   "id": "1867097a",
   "metadata": {},
   "outputs": [
    {
     "data": {
      "text/plain": [
       "{3}"
      ]
     },
     "execution_count": 117,
     "metadata": {},
     "output_type": "execute_result"
    }
   ],
   "source": [
    "q1.intersection(q2)"
   ]
  },
  {
   "cell_type": "code",
   "execution_count": 118,
   "id": "fd9b06cd",
   "metadata": {},
   "outputs": [],
   "source": [
    "#intersection_update()\n",
    "#Find the common element and update into q1"
   ]
  },
  {
   "cell_type": "code",
   "execution_count": 119,
   "id": "332b271a",
   "metadata": {},
   "outputs": [],
   "source": [
    "q1.intersection_update(q2)"
   ]
  },
  {
   "cell_type": "code",
   "execution_count": 120,
   "id": "22238c53",
   "metadata": {},
   "outputs": [
    {
     "data": {
      "text/plain": [
       "{3}"
      ]
     },
     "execution_count": 120,
     "metadata": {},
     "output_type": "execute_result"
    }
   ],
   "source": [
    "q1"
   ]
  },
  {
   "cell_type": "code",
   "execution_count": 121,
   "id": "4ae2c519",
   "metadata": {},
   "outputs": [
    {
     "data": {
      "text/plain": [
       "{3, 4, 5}"
      ]
     },
     "execution_count": 121,
     "metadata": {},
     "output_type": "execute_result"
    }
   ],
   "source": [
    "q2"
   ]
  },
  {
   "cell_type": "code",
   "execution_count": null,
   "id": "41309c00",
   "metadata": {},
   "outputs": [],
   "source": []
  },
  {
   "cell_type": "code",
   "execution_count": null,
   "id": "0fc7c105",
   "metadata": {},
   "outputs": [],
   "source": []
  }
 ],
 "metadata": {
  "kernelspec": {
   "display_name": "Python 3 (ipykernel)",
   "language": "python",
   "name": "python3"
  },
  "language_info": {
   "codemirror_mode": {
    "name": "ipython",
    "version": 3
   },
   "file_extension": ".py",
   "mimetype": "text/x-python",
   "name": "python",
   "nbconvert_exporter": "python",
   "pygments_lexer": "ipython3",
   "version": "3.10.2"
  }
 },
 "nbformat": 4,
 "nbformat_minor": 5
}
